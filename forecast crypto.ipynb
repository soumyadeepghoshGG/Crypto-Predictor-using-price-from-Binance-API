{
 "cells": [
  {
   "cell_type": "markdown",
   "metadata": {},
   "source": [
    "<center><img src=https://upload.wikimedia.org/wikipedia/commons/thumb/1/12/Binance_logo.svg/1920px-Binance_logo.svg.png height=150 width=800></center>"
   ]
  },
  {
   "cell_type": "code",
   "execution_count": 1,
   "metadata": {},
   "outputs": [],
   "source": [
    "from BinanceCryptoPredictor import *\n",
    "\n",
    "api_key = 'Your API Key'\n",
    "api_secret = \"Your API Secret\""
   ]
  },
  {
   "cell_type": "markdown",
   "metadata": {},
   "source": [
    "#### BTC trend using 1 hour interval data - 1 year"
   ]
  },
  {
   "cell_type": "code",
   "execution_count": 2,
   "metadata": {},
   "outputs": [
    {
     "name": "stderr",
     "output_type": "stream",
     "text": [
      "2024-05-28 16:31:28,827 - INFO - Data saved to data/BTCUSDT data with interval 1HOUR for 365 days.csv\n",
      "2024-05-28 16:31:28,864 - DEBUG - cmd: where.exe tbb.dll\n",
      "cwd: None\n",
      "2024-05-28 16:31:28,912 - DEBUG - Adding TBB (c:\\Users\\soumy\\AppData\\Local\\Programs\\Python\\Python312\\Lib\\site-packages\\prophet\\stan_model\\cmdstan-2.33.1\\stan\\lib\\stan_math\\lib\\tbb) to PATH\n",
      "2024-05-28 16:31:28,926 - INFO - Disabling yearly seasonality. Run prophet with yearly_seasonality=True to override this.\n",
      "2024-05-28 16:31:28,939 - DEBUG - input tempfile: C:\\Users\\soumy\\AppData\\Local\\Temp\\tmpihyswyob\\2v0zusng.json\n",
      "2024-05-28 16:31:29,088 - DEBUG - input tempfile: C:\\Users\\soumy\\AppData\\Local\\Temp\\tmpihyswyob\\26lzowdh.json\n",
      "2024-05-28 16:31:29,089 - DEBUG - idx 0\n",
      "2024-05-28 16:31:29,090 - DEBUG - running CmdStan, num_threads: None\n",
      "2024-05-28 16:31:29,090 - DEBUG - CmdStan args: ['C:\\\\Users\\\\soumy\\\\AppData\\\\Local\\\\Programs\\\\Python\\\\Python312\\\\Lib\\\\site-packages\\\\prophet\\\\stan_model\\\\prophet_model.bin', 'random', 'seed=24664', 'data', 'file=C:\\\\Users\\\\soumy\\\\AppData\\\\Local\\\\Temp\\\\tmpihyswyob\\\\2v0zusng.json', 'init=C:\\\\Users\\\\soumy\\\\AppData\\\\Local\\\\Temp\\\\tmpihyswyob\\\\26lzowdh.json', 'output', 'file=C:\\\\Users\\\\soumy\\\\AppData\\\\Local\\\\Temp\\\\tmpihyswyob\\\\prophet_modelfmyshk47\\\\prophet_model-20240528163129.csv', 'method=optimize', 'algorithm=lbfgs', 'iter=10000']\n",
      "16:31:29 - cmdstanpy - INFO - Chain [1] start processing\n",
      "2024-05-28 16:31:29,090 - INFO - Chain [1] start processing\n",
      "16:31:30 - cmdstanpy - INFO - Chain [1] done processing\n",
      "2024-05-28 16:31:30,514 - INFO - Chain [1] done processing\n"
     ]
    }
   ],
   "source": [
    "btc_1 = CryptoPredictor(api_key, api_secret)\n",
    "btc_1.forecast_with_prophet()\n",
    "btc_1.forecast_with_sarimax()"
   ]
  },
  {
   "cell_type": "markdown",
   "metadata": {},
   "source": [
    "#### ETH trend using 1 hour interval data - 1 year"
   ]
  },
  {
   "cell_type": "code",
   "execution_count": 3,
   "metadata": {},
   "outputs": [
    {
     "name": "stderr",
     "output_type": "stream",
     "text": [
      "2024-05-28 16:33:52,385 - INFO - Data saved to data/ETHUSDT data with interval 1HOUR for 365 days.csv\n",
      "2024-05-28 16:33:52,398 - DEBUG - cmd: where.exe tbb.dll\n",
      "cwd: None\n",
      "2024-05-28 16:33:52,439 - DEBUG - TBB already found in load path\n",
      "2024-05-28 16:33:52,450 - INFO - Disabling yearly seasonality. Run prophet with yearly_seasonality=True to override this.\n",
      "2024-05-28 16:33:52,458 - DEBUG - input tempfile: C:\\Users\\soumy\\AppData\\Local\\Temp\\tmpihyswyob\\7wfgttvq.json\n",
      "2024-05-28 16:33:52,609 - DEBUG - input tempfile: C:\\Users\\soumy\\AppData\\Local\\Temp\\tmpihyswyob\\qnsmft6h.json\n",
      "2024-05-28 16:33:52,610 - DEBUG - idx 0\n",
      "2024-05-28 16:33:52,610 - DEBUG - running CmdStan, num_threads: None\n",
      "2024-05-28 16:33:52,611 - DEBUG - CmdStan args: ['C:\\\\Users\\\\soumy\\\\AppData\\\\Local\\\\Programs\\\\Python\\\\Python312\\\\Lib\\\\site-packages\\\\prophet\\\\stan_model\\\\prophet_model.bin', 'random', 'seed=38505', 'data', 'file=C:\\\\Users\\\\soumy\\\\AppData\\\\Local\\\\Temp\\\\tmpihyswyob\\\\7wfgttvq.json', 'init=C:\\\\Users\\\\soumy\\\\AppData\\\\Local\\\\Temp\\\\tmpihyswyob\\\\qnsmft6h.json', 'output', 'file=C:\\\\Users\\\\soumy\\\\AppData\\\\Local\\\\Temp\\\\tmpihyswyob\\\\prophet_model3nehqe_p\\\\prophet_model-20240528163352.csv', 'method=optimize', 'algorithm=lbfgs', 'iter=10000']\n",
      "16:33:52 - cmdstanpy - INFO - Chain [1] start processing\n",
      "2024-05-28 16:33:52,611 - INFO - Chain [1] start processing\n",
      "16:33:54 - cmdstanpy - INFO - Chain [1] done processing\n",
      "2024-05-28 16:33:54,104 - INFO - Chain [1] done processing\n"
     ]
    }
   ],
   "source": [
    "eth_1 = CryptoPredictor(api_key, api_secret, crypto='ETHUSDT')\n",
    "eth_1.forecast_with_prophet()\n",
    "eth_1.forecast_with_sarimax()"
   ]
  },
  {
   "cell_type": "markdown",
   "metadata": {},
   "source": [
    "#### ETH trend using 1 hour interval data - 5 years"
   ]
  },
  {
   "cell_type": "code",
   "execution_count": 4,
   "metadata": {},
   "outputs": [
    {
     "name": "stderr",
     "output_type": "stream",
     "text": [
      "2024-05-28 16:36:21,758 - INFO - Data saved to data/ETHUSDT data with interval 1HOUR for 1825 days.csv\n",
      "2024-05-28 16:36:21,797 - DEBUG - cmd: where.exe tbb.dll\n",
      "cwd: None\n",
      "2024-05-28 16:36:21,838 - DEBUG - TBB already found in load path\n",
      "2024-05-28 16:36:21,927 - DEBUG - input tempfile: C:\\Users\\soumy\\AppData\\Local\\Temp\\tmpihyswyob\\strdhhgl.json\n",
      "2024-05-28 16:36:23,490 - DEBUG - input tempfile: C:\\Users\\soumy\\AppData\\Local\\Temp\\tmpihyswyob\\f49gohx4.json\n",
      "2024-05-28 16:36:23,491 - DEBUG - idx 0\n",
      "2024-05-28 16:36:23,491 - DEBUG - running CmdStan, num_threads: None\n",
      "2024-05-28 16:36:23,491 - DEBUG - CmdStan args: ['C:\\\\Users\\\\soumy\\\\AppData\\\\Local\\\\Programs\\\\Python\\\\Python312\\\\Lib\\\\site-packages\\\\prophet\\\\stan_model\\\\prophet_model.bin', 'random', 'seed=87968', 'data', 'file=C:\\\\Users\\\\soumy\\\\AppData\\\\Local\\\\Temp\\\\tmpihyswyob\\\\strdhhgl.json', 'init=C:\\\\Users\\\\soumy\\\\AppData\\\\Local\\\\Temp\\\\tmpihyswyob\\\\f49gohx4.json', 'output', 'file=C:\\\\Users\\\\soumy\\\\AppData\\\\Local\\\\Temp\\\\tmpihyswyob\\\\prophet_model7l7qc_2r\\\\prophet_model-20240528163623.csv', 'method=optimize', 'algorithm=lbfgs', 'iter=10000']\n",
      "16:36:23 - cmdstanpy - INFO - Chain [1] start processing\n",
      "2024-05-28 16:36:23,491 - INFO - Chain [1] start processing\n",
      "16:36:50 - cmdstanpy - INFO - Chain [1] done processing\n",
      "2024-05-28 16:36:50,256 - INFO - Chain [1] done processing\n"
     ]
    }
   ],
   "source": [
    "eth_5 = CryptoPredictor(api_key, api_secret, crypto='ETHUSDT', n_days_past=5*365)\n",
    "eth_5.forecast_with_prophet()"
   ]
  },
  {
   "cell_type": "code",
   "execution_count": 5,
   "metadata": {},
   "outputs": [
    {
     "name": "stdout",
     "output_type": "stream",
     "text": [
      "Current settings of the CryptoPredictor instance:\n",
      "Current cryptocurrency being analyzed: BTCUSDT\n",
      "Current interval being used for data retrieval and analysis: 1HOUR\n",
      "Current type of OHLCV data being considered: open\n",
      "Number of historical days being considered for analysis: 365\n",
      "Number of days into the future for forecasting: 100\n"
     ]
    }
   ],
   "source": [
    "print(\"Current settings of the CryptoPredictor instance:\")\n",
    "print(f\"Current cryptocurrency being analyzed: {btc_1.crypto}\",\n",
    "      f\"Current interval being used for data retrieval and analysis: {btc_1.interval}\",\n",
    "      f\"Current type of OHLCV data being considered: {btc_1.ohlcv}\",\n",
    "      f\"Number of historical days being considered for analysis: {btc_1.n_days_past}\",\n",
    "      f\"Number of days into the future for forecasting: {btc_1.n_days_future}\",\n",
    "      sep = '\\n')"
   ]
  },
  {
   "cell_type": "code",
   "execution_count": 6,
   "metadata": {},
   "outputs": [
    {
     "name": "stdout",
     "output_type": "stream",
     "text": [
      "Available interval options: ['1MINUTE', '3MINUTE', '5MINUTE', '15MINUTE', '1HOUR', '2HOUR', '4HOUR', '1DAY', '1WEEK']\n",
      "\n",
      "Available options for OHLCV data: ['open', 'high', 'low', 'close', 'volume']\n",
      "\n",
      "The types of crypto currencies along with their symbols:\n"
     ]
    },
    {
     "data": {
      "text/plain": [
       "{'Bitcoin and Altcoins': [{'name': 'Bitcoin', 'symbol': 'BTCUSDT'},\n",
       "  {'name': 'Ethereum', 'symbol': 'ETHUSDT'},\n",
       "  {'name': 'Ripple', 'symbol': 'XRPUSDT'},\n",
       "  {'name': 'Litecoin', 'symbol': 'LTCUSDT'},\n",
       "  {'name': 'Cardano', 'symbol': 'ADAUSDT'},\n",
       "  {'name': 'Polkadot', 'symbol': 'DOTUSDT'},\n",
       "  {'name': 'Bitcoin Cash', 'symbol': 'BCHUSDT'},\n",
       "  {'name': 'Chainlink', 'symbol': 'LINKUSDT'},\n",
       "  {'name': 'Stellar', 'symbol': 'XLMUSDT'},\n",
       "  {'name': 'Uniswap', 'symbol': 'UNIUSDT'}],\n",
       " 'Tokens': [{'name': 'Basic Attention Token', 'symbol': 'BATUSDT'},\n",
       "  {'name': 'Compound', 'symbol': 'COMPUSDT'},\n",
       "  {'name': 'Aave', 'symbol': 'AAVEUSDT'},\n",
       "  {'name': 'Synthetix', 'symbol': 'SNXUSDT'},\n",
       "  {'name': 'Yearn.finance', 'symbol': 'YFIUSDT'},\n",
       "  {'name': 'Maker', 'symbol': 'MKRUSDT'},\n",
       "  {'name': 'Dai', 'symbol': 'DAIUSDT'},\n",
       "  {'name': 'Tether', 'symbol': 'USDTUSDT'}],\n",
       " 'Privacy Coins': [{'name': 'Monero', 'symbol': 'XMRUSDT'},\n",
       "  {'name': 'Zcash', 'symbol': 'ZECUSDT'},\n",
       "  {'name': 'Dash', 'symbol': 'DASHUSDT'},\n",
       "  {'name': 'Verge', 'symbol': 'XVGUSDT'},\n",
       "  {'name': 'Horizen', 'symbol': 'ZENUSDT'}],\n",
       " 'Stablecoins': [{'name': 'Tether', 'symbol': 'USDTUSDT'},\n",
       "  {'name': 'USD Coin', 'symbol': 'USDCUSDT'},\n",
       "  {'name': 'Dai', 'symbol': 'DAIUSDT'},\n",
       "  {'name': 'TrueUSD', 'symbol': 'TUSDUSDT'},\n",
       "  {'name': 'Paxos Standard', 'symbol': 'PAXUSDT'}],\n",
       " 'Utility Tokens': [{'name': 'Binance Coin', 'symbol': 'BNBUSDT'},\n",
       "  {'name': 'Basic Attention Token', 'symbol': 'BATUSDT'},\n",
       "  {'name': 'Chainlink', 'symbol': 'LINKUSDT'},\n",
       "  {'name': 'Uniswap', 'symbol': 'UNIUSDT'},\n",
       "  {'name': 'VeChain', 'symbol': 'VETUSDT'},\n",
       "  {'name': 'Theta Token', 'symbol': 'THETAUSDT'},\n",
       "  {'name': 'Crypto.com Coin', 'symbol': 'CROUSDT'},\n",
       "  {'name': 'Maker', 'symbol': 'MKRUSDT'},\n",
       "  {'name': 'Compound', 'symbol': 'COMPUSDT'},\n",
       "  {'name': 'Filecoin', 'symbol': 'FILUSDT'}],\n",
       " 'Security Tokens': [{'name': 'Polymath', 'symbol': 'POLYUSDT'},\n",
       "  {'name': 'tZERO', 'symbol': 'TZROPUSDT'},\n",
       "  {'name': 'Harbor', 'symbol': 'RFRUSDT'},\n",
       "  {'name': 'Securitize', 'symbol': 'DSXUSDT'},\n",
       "  {'name': 'TokenSoft', 'symbol': 'TSFTUSDT'}],\n",
       " 'Meme Coins': [{'name': 'Dogecoin', 'symbol': 'DOGEUSDT'},\n",
       "  {'name': 'Shiba Inu', 'symbol': 'SHIBUSDT'},\n",
       "  {'name': 'DogeCash', 'symbol': 'DOGECUSDT'},\n",
       "  {'name': 'HuskyToken', 'symbol': 'HUSKYUSDT'},\n",
       "  {'name': 'SafeMoon', 'symbol': 'SAFEMOONUSDT'},\n",
       "  {'name': 'Floki Inu', 'symbol': 'FLOKIUSDT'}],\n",
       " 'AI Coins': [{'name': 'SingularityNET', 'symbol': 'AGIUSDT'},\n",
       "  {'name': 'DeepBrain Chain', 'symbol': 'DBCUSDT'},\n",
       "  {'name': 'Fetch.ai', 'symbol': 'FETUSDT'},\n",
       "  {'name': 'Ocean Protocol', 'symbol': 'OCEANUSDT'},\n",
       "  {'name': 'Numerai', 'symbol': 'NMRUSDT'},\n",
       "  {'name': 'Matrix AI Network', 'symbol': 'MANUSDT'},\n",
       "  {'name': 'DAGlabs', 'symbol': 'DAGUSDT'},\n",
       "  {'name': 'Effect.ai', 'symbol': 'EFXUSDT'},\n",
       "  {'name': 'Neural Protocol', 'symbol': 'NRPUSDT'},\n",
       "  {'name': 'AGI Coin', 'symbol': 'AGIUSDT'}]}"
      ]
     },
     "metadata": {},
     "output_type": "display_data"
    }
   ],
   "source": [
    "print(f\"Available interval options: {interval_options}\",\n",
    "      f\"Available options for OHLCV data: {ohlcv_options}\",\n",
    "      f\"The types of crypto currencies along with their symbols:\",\n",
    "      sep = '\\n\\n')\n",
    "\n",
    "display(crypto_options)"
   ]
  }
 ],
 "metadata": {
  "kernelspec": {
   "display_name": "Python 3",
   "language": "python",
   "name": "python3"
  },
  "language_info": {
   "codemirror_mode": {
    "name": "ipython",
    "version": 3
   },
   "file_extension": ".py",
   "mimetype": "text/x-python",
   "name": "python",
   "nbconvert_exporter": "python",
   "pygments_lexer": "ipython3",
   "version": "3.12.0"
  }
 },
 "nbformat": 4,
 "nbformat_minor": 2
}
