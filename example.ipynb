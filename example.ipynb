{
 "cells": [
  {
   "cell_type": "markdown",
   "metadata": {},
   "source": [
    "<center><img src=https://upload.wikimedia.org/wikipedia/commons/thumb/1/12/Binance_logo.svg/1920px-Binance_logo.svg.png height=150 width=800></center>"
   ]
  },
  {
   "cell_type": "code",
   "execution_count": 2,
   "metadata": {},
   "outputs": [
    {
     "name": "stderr",
     "output_type": "stream",
     "text": [
      "2024-08-11 00:32:00,965 - INFO - Data already exists at data\\SHIBUSDT_data_1HOUR_50days.csv. Skipping download.\n",
      "2024-08-11 00:32:01,166 - INFO - Data already exists at data\\SHIBUSDT_data_1HOUR_50days.csv. Skipping download.\n"
     ]
    }
   ],
   "source": [
    "from BinanceCryptoPredictor import CryptoPredictor\n",
    "\n",
    "btc = CryptoPredictor(crypto='SHIBUSDT', n_days_past=50, n_days_future=10, model='Sarimax')\n",
    "\n",
    "\n",
    "# historical_data = btc.fetch_data()\n",
    "# forecast_df = btc.show_forecast_df()\n",
    "# prophet_components = btc.show_components()\n",
    "trend = btc.show_trend()"
   ]
  }
 ],
 "metadata": {
  "kernelspec": {
   "display_name": "Python 3",
   "language": "python",
   "name": "python3"
  },
  "language_info": {
   "codemirror_mode": {
    "name": "ipython",
    "version": 3
   },
   "file_extension": ".py",
   "mimetype": "text/x-python",
   "name": "python",
   "nbconvert_exporter": "python",
   "pygments_lexer": "ipython3",
   "version": "3.12.0"
  }
 },
 "nbformat": 4,
 "nbformat_minor": 2
}
